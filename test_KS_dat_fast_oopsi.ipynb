{
 "cells": [
  {
   "cell_type": "code",
   "execution_count": null,
   "metadata": {
    "collapsed": true
   },
   "outputs": [],
   "source": [
    "import matplotlib\n",
    "import matplotlib.pyplot as plt\n",
    "import numpy as np\n",
    "import fast_oopsi\n",
    "import constrained_oopsi\n",
    "from scipy.io import loadmat, savemat"
   ]
  },
  {
   "cell_type": "code",
   "execution_count": null,
   "metadata": {
    "collapsed": true
   },
   "outputs": [],
   "source": [
    "totCell = loadmat('DataListCells.mat')"
   ]
  },
  {
   "cell_type": "code",
   "execution_count": null,
   "metadata": {
    "collapsed": false
   },
   "outputs": [],
   "source": [
    "totCell= loadmat('DataListCells.mat')\n",
    "nCell  = 1\n",
    "dff    = totCell['totCell'][nCell-1]['dff']\n",
    "dff    = dff[0].astype('float64')[:,0]\n",
    "spk    = totCell['totCell'][nCell-1]['spk']\n",
    "spk    = spk[0]\n",
    "caTime = totCell['totCell'][nCell-1]['CaTime']\n",
    "caTime = caTime[0]\n",
    "dt     = caTime[1] - caTime[0]"
   ]
  },
  {
   "cell_type": "code",
   "execution_count": null,
   "metadata": {
    "collapsed": false
   },
   "outputs": [],
   "source": [
    "%matplotlib inline\n",
    "fig, ax = plt.subplots()\n",
    "ax.plot(caTime, dff/dff.max())\n",
    "ax.plot(spk, np.ones(len(spk))*1.1, 'ok')\n",
    "ax.set_title('Calcium Fluorescence Signal')"
   ]
  },
  {
   "cell_type": "code",
   "execution_count": null,
   "metadata": {
    "collapsed": false
   },
   "outputs": [],
   "source": [
    "# wiener filter,\n",
    "d, Cw, F_est, F_est_nonneg = fast_oopsi.wiener(dff.transpose(), dt=dt, iter_max=100)\n",
    "fig, ax = plt.subplots()\n",
    "ax.plot(caTime, dff/dff.max(), color='black', linewidth=1.0)\n",
    "ax.plot(caTime, F_est_nonneg/dff.max(), color='red', linewidth=0.5)\n",
    "ax.set_title('Reconstruct Calcium Fluorescence by wiener filter')"
   ]
  },
  {
   "cell_type": "code",
   "execution_count": null,
   "metadata": {
    "collapsed": false
   },
   "outputs": [],
   "source": [
    "# descritize,\n",
    "d, v = fast_oopsi.discretize(dff/dff.max(), bins=[0.10])\n",
    "fig, ax = plt.subplots()\n",
    "ax.plot(d, color='red', linewidth=1.5)\n",
    "ax.set_title('Reconstruct Spikes by discretized binning')"
   ]
  },
  {
   "cell_type": "code",
   "execution_count": null,
   "metadata": {
    "collapsed": false
   },
   "outputs": [],
   "source": [
    "# fast-oopsi,\n",
    "d, Cz, P, F_est = fast_oopsi.fast(dff, dt=dt, iter_max=100)\n",
    "fig, ax = plt.subplots()\n",
    "ax.plot(caTime, dff/dff.max(), color='black', linewidth=1.0)\n",
    "ax.plot(caTime, F_est/dff.max(), color='red', linewidth=0.5)\n",
    "ax.set_title('Reconstruct Calcium Fluorescence by fast-oopsi')"
   ]
  },
  {
   "cell_type": "code",
   "execution_count": null,
   "metadata": {
    "collapsed": false,
    "scrolled": true
   },
   "outputs": [],
   "source": [
    "# constrained-fast-oopsi,\n",
    "methods = ['cvxpy', 'spgl1', 'debug', 'cvx']\n",
    "c, bl, c1, g, sn, spikes = constrained_oopsi.constrained_foopsi(dff, p=2, noise_range=[.25, .5], methods=methods[0])\n",
    "fig, ax = plt.subplots()\n",
    "ax.plot(caTime, dff/dff.max(), color='black', linewidth=1.0)\n",
    "ax.plot(caTime, c/dff.max(), color='red', linewidth=0.5)\n",
    "ax.set_title('Reconstruct Calcium Fluorescence by constrained oopsi filter')"
   ]
  }
 ],
 "metadata": {
  "kernelspec": {
   "display_name": "Python 2",
   "language": "python",
   "name": "python2"
  },
  "language_info": {
   "codemirror_mode": {
    "name": "ipython",
    "version": 2
   },
   "file_extension": ".py",
   "mimetype": "text/x-python",
   "name": "python",
   "nbconvert_exporter": "python",
   "pygments_lexer": "ipython2",
   "version": "2.7.11"
  },
  "toc": {
   "toc_cell": true,
   "toc_number_sections": false,
   "toc_threshold": "1",
   "toc_window_display": false
  }
 },
 "nbformat": 4,
 "nbformat_minor": 0
}
