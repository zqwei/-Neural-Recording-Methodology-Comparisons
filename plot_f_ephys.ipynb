{
 "cells": [
  {
   "cell_type": "code",
   "execution_count": null,
   "metadata": {
    "collapsed": true
   },
   "outputs": [],
   "source": [
    "import numpy as np\n",
    "import h5py\n",
    "\n",
    "CaIndicator = 'GP43'\n",
    "Zoom = 'highzoom'\n",
    "SessionId = 'data_141001_cell1_001'"
   ]
  },
  {
   "cell_type": "code",
   "execution_count": null,
   "metadata": {
    "collapsed": true
   },
   "outputs": [],
   "source": [
    "hf = h5py.File(CaIndicator + '_' + Zoom + '_nwb/' + SessionId + '.nwb', 'r')"
   ]
  },
  {
   "cell_type": "code",
   "execution_count": null,
   "metadata": {
    "collapsed": false
   },
   "outputs": [],
   "source": [
    "FMeanNeuropil = np.array(hf['acquisition']['timeseries']['FMeanNeuropil']['data'])\n",
    "FMeanROI = np.array(hf['acquisition']['timeseries']['FMeanROI']['data'])\n",
    "CaTimeStamps = np.array(hf['acquisition']['timeseries']['FMeanROI']['timestamps'])\n",
    "\n",
    "SpkTimes = np.array(hf['processing']['Ephys']['UnitTimes']['SpikeTimes_0']['times'])"
   ]
  },
  {
   "cell_type": "code",
   "execution_count": null,
   "metadata": {
    "collapsed": false
   },
   "outputs": [],
   "source": [
    "FMean = FMeanROI - 0.7 * FMeanNeuropil\n",
    "MaxF = FMean.max()\n",
    "MaxTime = CaTimeStamps.max()"
   ]
  },
  {
   "cell_type": "code",
   "execution_count": null,
   "metadata": {
    "collapsed": false
   },
   "outputs": [],
   "source": [
    "import matplotlib.pylab as plt\n",
    "%matplotlib inline\n",
    "\n",
    "fig, ax = plt.subplots()\n",
    "ax.plot(CaTimeStamps, FMean, '-b', label='Raw fluorescence')\n",
    "ax.plot(SpkTimes, np.ones(len(SpkTimes))*(MaxF+1), '+k', label='Spike times')\n",
    "ax.legend()\n",
    "ax.axis([0, MaxTime, 0, MaxF+5])\n",
    "ax.set_xlabel('Time (s)')\n",
    "ax.set_ylabel('F')\n",
    "ax.set_title(CaIndicator + '_' + Zoom + '_' + SessionId)\n",
    "plt.show()"
   ]
  },
  {
   "cell_type": "code",
   "execution_count": null,
   "metadata": {
    "collapsed": false
   },
   "outputs": [],
   "source": [
    "skip_interval = 3.0 # ignore F after a spike (< interval_pre sec) while computing baseline\n",
    "spikePerCaBin = np.histogram(SpkTimes, bins=CaTimeStamps)[0]\n",
    "spikePerCaBin = np.append([0], spikePerCaBin)"
   ]
  },
  {
   "cell_type": "code",
   "execution_count": null,
   "metadata": {
    "collapsed": true
   },
   "outputs": [],
   "source": [
    "from scipy.interpolate import interp1d\n",
    "\n",
    "def get_baseline_corr_dff(fmean, spktimes, ca_time=CaTimeStamps, interval=skip_interval):\n",
    "    fmeanSkipSpk = np.copy(fmean)\n",
    "    for n_spk in spktimes:\n",
    "        skip_frame = np.logical_and(ca_time >= n_spk, ca_time <= n_spk + interval)\n",
    "        fmeanSkipSpk[skip_frame] = np.nan\n",
    "    frameNoSpk = np.logical_not(np.isnan(fmeanSkipSpk))\n",
    "    # baseline = interp1d(ca_time[frameNoSpk], fmean[frameNoSpk], kind='linear') \n",
    "    # 'cubic' interp1d behaves different in scipy from that in matlab, probably the num is different by default\n",
    "    # f_baseline = baseline(ca_time)\n",
    "    f_baseline = fmean[frameNoSpk].mean()\n",
    "    dff = (fmean - f_baseline) / f_baseline\n",
    "    return dff\n",
    "    "
   ]
  },
  {
   "cell_type": "code",
   "execution_count": null,
   "metadata": {
    "collapsed": false
   },
   "outputs": [],
   "source": [
    "dff = get_baseline_corr_dff(FMean, SpkTimes)\n",
    "MaxDFF = dff.max()"
   ]
  },
  {
   "cell_type": "code",
   "execution_count": null,
   "metadata": {
    "collapsed": false
   },
   "outputs": [],
   "source": [
    "import matplotlib.pylab as plt\n",
    "%matplotlib inline\n",
    "\n",
    "fig, ax = plt.subplots()\n",
    "\n",
    "ax.plot(CaTimeStamps, dff, '-b', label='dF/F')\n",
    "ax.plot(SpkTimes, np.ones(len(SpkTimes))*(MaxDFF+.5), '+k', label='Spike times')\n",
    "ax.legend()\n",
    "ax.axis([0, MaxTime, -1, MaxDFF+1])\n",
    "ax.set_xlabel('Time (s)')\n",
    "ax.set_ylabel('dF/F')\n",
    "ax.set_title(CaIndicator + '_' + Zoom + '_' + SessionId)\n",
    "plt.show()"
   ]
  },
  {
   "cell_type": "code",
   "execution_count": null,
   "metadata": {
    "collapsed": true
   },
   "outputs": [],
   "source": []
  }
 ],
 "metadata": {
  "anaconda-cloud": {},
  "kernelspec": {
   "display_name": "Python [default]",
   "language": "python",
   "name": "python2"
  },
  "language_info": {
   "codemirror_mode": {
    "name": "ipython",
    "version": 2
   },
   "file_extension": ".py",
   "mimetype": "text/x-python",
   "name": "python",
   "nbconvert_exporter": "python",
   "pygments_lexer": "ipython2",
   "version": "2.7.12"
  },
  "toc": {
   "toc_cell": true,
   "toc_number_sections": false,
   "toc_threshold": "1",
   "toc_window_display": false
  }
 },
 "nbformat": 4,
 "nbformat_minor": 1
}
